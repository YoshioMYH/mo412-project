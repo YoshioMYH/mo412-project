{
 "cells": [
  {
   "cell_type": "code",
   "execution_count": 25,
   "metadata": {},
   "outputs": [
    {
     "data": {
      "text/plain": [
       "True"
      ]
     },
     "execution_count": 25,
     "metadata": {},
     "output_type": "execute_result"
    }
   ],
   "source": [
    "from scholarly import scholarly\n",
    "\n",
    "proxies = {'http' : 'socks5://127.0.0.1:9050', 'https' : 'socks5://127.0.0.1:9050' }\n",
    "scholarly.use_proxy(**proxies)\n"
   ]
  },
  {
   "cell_type": "code",
   "execution_count": 8,
   "metadata": {},
   "outputs": [
    {
     "name": "stdout",
     "output_type": "stream",
     "text": [
      "{'bib': {'cites': '24',\n",
      "         'title': 'Skin lesion synthesis with generative adversarial networks',\n",
      "         'year': '2018'},\n",
      " 'filled': False,\n",
      " 'id_citations': 'tV12auAAAAAJ:u5HHmVD_uO8C',\n",
      " 'source': 'citations'}\n",
      "{'bib': {'cites': '12',\n",
      "         'title': 'Deep-learning ensembles for skin-lesion segmentation, '\n",
      "                  'analysis, classification: RECOD titans at ISIC challenge '\n",
      "                  '2018',\n",
      "         'year': '2018'},\n",
      " 'filled': False,\n",
      " 'id_citations': 'tV12auAAAAAJ:u-x6o8ySG0sC',\n",
      " 'source': 'citations'}\n",
      "{'bib': {'cites': '1',\n",
      "         'title': 'The Six Fronts of the Generative Adversarial Networks',\n",
      "         'year': '2019'},\n",
      " 'filled': False,\n",
      " 'id_citations': 'tV12auAAAAAJ:IjCSPb-OGe4C',\n",
      " 'source': 'citations'}\n",
      "{'bib': {'cites': '1',\n",
      "         'title': '(De) Constructing Bias on Skin Lesion Datasets',\n",
      "         'year': '2019'},\n",
      " 'filled': False,\n",
      " 'id_citations': 'tV12auAAAAAJ:d1gkVwhDpl0C',\n",
      " 'source': 'citations'}\n",
      "{'bib': {'cites': '0',\n",
      "         'title': 'Debiasing Skin Lesion Datasets and Models? Not So Fast',\n",
      "         'year': '2020'},\n",
      " 'filled': False,\n",
      " 'id_citations': 'tV12auAAAAAJ:zYLM7Y9cAGgC',\n",
      " 'source': 'citations'}\n",
      "{'bib': {'cites': '0',\n",
      "         'title': 'Improving skin lesion analysis with generative adversarial '\n",
      "                  'networks: Análise de lesões de pele usando redes '\n",
      "                  'generativas adversariais',\n",
      "         'year': '2019'},\n",
      " 'filled': False,\n",
      " 'id_citations': 'tV12auAAAAAJ:qjMakFHDy7sC',\n",
      " 'source': 'citations'}\n"
     ]
    },
    {
     "ename": "Exception",
     "evalue": "Cannot fetch the page from Google Scholar.",
     "output_type": "error",
     "traceback": [
      "\u001b[0;31m---------------------------------------------------------------------------\u001b[0m",
      "\u001b[0;31mException\u001b[0m                                 Traceback (most recent call last)",
      "\u001b[0;32m<ipython-input-8-44e38409467c>\u001b[0m in \u001b[0;36m<module>\u001b[0;34m\u001b[0m\n\u001b[1;32m      7\u001b[0m     \u001b[0mpubs\u001b[0m\u001b[0;34m.\u001b[0m\u001b[0mappend\u001b[0m\u001b[0;34m(\u001b[0m\u001b[0mpub\u001b[0m\u001b[0;34m)\u001b[0m\u001b[0;34m\u001b[0m\u001b[0;34m\u001b[0m\u001b[0m\n\u001b[1;32m      8\u001b[0m     \u001b[0mtitle\u001b[0m \u001b[0;34m=\u001b[0m \u001b[0mpub\u001b[0m\u001b[0;34m.\u001b[0m\u001b[0mbib\u001b[0m\u001b[0;34m[\u001b[0m\u001b[0;34m'title'\u001b[0m\u001b[0;34m]\u001b[0m\u001b[0;34m\u001b[0m\u001b[0;34m\u001b[0m\u001b[0m\n\u001b[0;32m----> 9\u001b[0;31m     \u001b[0mp\u001b[0m \u001b[0;34m=\u001b[0m \u001b[0mscholarly\u001b[0m\u001b[0;34m.\u001b[0m\u001b[0msearch_pubs\u001b[0m\u001b[0;34m(\u001b[0m\u001b[0mtitle\u001b[0m\u001b[0;34m)\u001b[0m\u001b[0;34m\u001b[0m\u001b[0;34m\u001b[0m\u001b[0m\n\u001b[0m\u001b[1;32m     10\u001b[0m     \u001b[0mpubss\u001b[0m\u001b[0;34m.\u001b[0m\u001b[0mappend\u001b[0m\u001b[0;34m(\u001b[0m\u001b[0mnext\u001b[0m\u001b[0;34m(\u001b[0m\u001b[0mp\u001b[0m\u001b[0;34m)\u001b[0m\u001b[0;34m)\u001b[0m\u001b[0;34m\u001b[0m\u001b[0;34m\u001b[0m\u001b[0m\n",
      "\u001b[0;32m~/Desktop/20201S/Network-Science/scholarly/scholarly/_scholarly.py\u001b[0m in \u001b[0;36msearch_pubs\u001b[0;34m(self, query, patents, citations, year_low, year_high)\u001b[0m\n\u001b[1;32m    132\u001b[0m         \u001b[0;31m# improve str below\u001b[0m\u001b[0;34m\u001b[0m\u001b[0;34m\u001b[0m\u001b[0;34m\u001b[0m\u001b[0m\n\u001b[1;32m    133\u001b[0m         \u001b[0murl\u001b[0m \u001b[0;34m=\u001b[0m \u001b[0murl\u001b[0m \u001b[0;34m+\u001b[0m \u001b[0myr_lo\u001b[0m \u001b[0;34m+\u001b[0m \u001b[0myr_hi\u001b[0m \u001b[0;34m+\u001b[0m \u001b[0mcitations\u001b[0m \u001b[0;34m+\u001b[0m \u001b[0mpatents\u001b[0m\u001b[0;34m\u001b[0m\u001b[0;34m\u001b[0m\u001b[0m\n\u001b[0;32m--> 134\u001b[0;31m         \u001b[0;32mreturn\u001b[0m \u001b[0mself\u001b[0m\u001b[0;34m.\u001b[0m\u001b[0m__nav\u001b[0m\u001b[0;34m.\u001b[0m\u001b[0msearch_publications\u001b[0m\u001b[0;34m(\u001b[0m\u001b[0murl\u001b[0m\u001b[0;34m)\u001b[0m\u001b[0;34m\u001b[0m\u001b[0;34m\u001b[0m\u001b[0m\n\u001b[0m\u001b[1;32m    135\u001b[0m \u001b[0;34m\u001b[0m\u001b[0m\n\u001b[1;32m    136\u001b[0m     \u001b[0;32mdef\u001b[0m \u001b[0msearch_single_pub\u001b[0m\u001b[0;34m(\u001b[0m\u001b[0mself\u001b[0m\u001b[0;34m,\u001b[0m \u001b[0mpub_title\u001b[0m\u001b[0;34m:\u001b[0m \u001b[0mstr\u001b[0m\u001b[0;34m,\u001b[0m \u001b[0mfilled\u001b[0m\u001b[0;34m:\u001b[0m \u001b[0mbool\u001b[0m \u001b[0;34m=\u001b[0m \u001b[0;32mFalse\u001b[0m\u001b[0;34m)\u001b[0m\u001b[0;34m:\u001b[0m\u001b[0;34m\u001b[0m\u001b[0;34m\u001b[0m\u001b[0m\n",
      "\u001b[0;32m~/Desktop/20201S/Network-Science/scholarly/scholarly/_navigator.py\u001b[0m in \u001b[0;36msearch_publications\u001b[0;34m(self, url)\u001b[0m\n\u001b[1;32m    324\u001b[0m         \u001b[0;34m:\u001b[0m\u001b[0mrtype\u001b[0m\u001b[0;34m:\u001b[0m \u001b[0;34m{\u001b[0m\u001b[0m_SearchScholarIterator\u001b[0m\u001b[0;34m}\u001b[0m\u001b[0;34m\u001b[0m\u001b[0;34m\u001b[0m\u001b[0m\n\u001b[1;32m    325\u001b[0m         \"\"\"\n\u001b[0;32m--> 326\u001b[0;31m         \u001b[0;32mreturn\u001b[0m \u001b[0m_SearchScholarIterator\u001b[0m\u001b[0;34m(\u001b[0m\u001b[0mself\u001b[0m\u001b[0;34m,\u001b[0m \u001b[0murl\u001b[0m\u001b[0;34m)\u001b[0m\u001b[0;34m\u001b[0m\u001b[0;34m\u001b[0m\u001b[0m\n\u001b[0m",
      "\u001b[0;32m~/Desktop/20201S/Network-Science/scholarly/scholarly/publication.py\u001b[0m in \u001b[0;36m__init__\u001b[0;34m(self, nav, url)\u001b[0m\n\u001b[1;32m     22\u001b[0m         \u001b[0mself\u001b[0m\u001b[0;34m.\u001b[0m\u001b[0m_url\u001b[0m \u001b[0;34m=\u001b[0m \u001b[0murl\u001b[0m\u001b[0;34m\u001b[0m\u001b[0;34m\u001b[0m\u001b[0m\n\u001b[1;32m     23\u001b[0m         \u001b[0mself\u001b[0m\u001b[0;34m.\u001b[0m\u001b[0m_nav\u001b[0m \u001b[0;34m=\u001b[0m \u001b[0mnav\u001b[0m\u001b[0;34m\u001b[0m\u001b[0;34m\u001b[0m\u001b[0m\n\u001b[0;32m---> 24\u001b[0;31m         \u001b[0mself\u001b[0m\u001b[0;34m.\u001b[0m\u001b[0m_load_url\u001b[0m\u001b[0;34m(\u001b[0m\u001b[0murl\u001b[0m\u001b[0;34m)\u001b[0m\u001b[0;34m\u001b[0m\u001b[0;34m\u001b[0m\u001b[0m\n\u001b[0m\u001b[1;32m     25\u001b[0m \u001b[0;34m\u001b[0m\u001b[0m\n\u001b[1;32m     26\u001b[0m     \u001b[0;32mdef\u001b[0m \u001b[0m_load_url\u001b[0m\u001b[0;34m(\u001b[0m\u001b[0mself\u001b[0m\u001b[0;34m,\u001b[0m \u001b[0murl\u001b[0m\u001b[0;34m:\u001b[0m \u001b[0mstr\u001b[0m\u001b[0;34m)\u001b[0m\u001b[0;34m:\u001b[0m\u001b[0;34m\u001b[0m\u001b[0;34m\u001b[0m\u001b[0m\n",
      "\u001b[0;32m~/Desktop/20201S/Network-Science/scholarly/scholarly/publication.py\u001b[0m in \u001b[0;36m_load_url\u001b[0;34m(self, url)\u001b[0m\n\u001b[1;32m     26\u001b[0m     \u001b[0;32mdef\u001b[0m \u001b[0m_load_url\u001b[0m\u001b[0;34m(\u001b[0m\u001b[0mself\u001b[0m\u001b[0;34m,\u001b[0m \u001b[0murl\u001b[0m\u001b[0;34m:\u001b[0m \u001b[0mstr\u001b[0m\u001b[0;34m)\u001b[0m\u001b[0;34m:\u001b[0m\u001b[0;34m\u001b[0m\u001b[0;34m\u001b[0m\u001b[0m\n\u001b[1;32m     27\u001b[0m         \u001b[0;31m# this is temporary until setup json file\u001b[0m\u001b[0;34m\u001b[0m\u001b[0;34m\u001b[0m\u001b[0;34m\u001b[0m\u001b[0m\n\u001b[0;32m---> 28\u001b[0;31m         \u001b[0mself\u001b[0m\u001b[0;34m.\u001b[0m\u001b[0m_soup\u001b[0m \u001b[0;34m=\u001b[0m \u001b[0mself\u001b[0m\u001b[0;34m.\u001b[0m\u001b[0m_nav\u001b[0m\u001b[0;34m.\u001b[0m\u001b[0m_get_soup\u001b[0m\u001b[0;34m(\u001b[0m\u001b[0murl\u001b[0m\u001b[0;34m)\u001b[0m\u001b[0;34m\u001b[0m\u001b[0;34m\u001b[0m\u001b[0m\n\u001b[0m\u001b[1;32m     29\u001b[0m         \u001b[0mself\u001b[0m\u001b[0;34m.\u001b[0m\u001b[0m_pos\u001b[0m \u001b[0;34m=\u001b[0m \u001b[0;36m0\u001b[0m\u001b[0;34m\u001b[0m\u001b[0;34m\u001b[0m\u001b[0m\n\u001b[1;32m     30\u001b[0m         \u001b[0mself\u001b[0m\u001b[0;34m.\u001b[0m\u001b[0m_rows\u001b[0m \u001b[0;34m=\u001b[0m \u001b[0mself\u001b[0m\u001b[0;34m.\u001b[0m\u001b[0m_soup\u001b[0m\u001b[0;34m.\u001b[0m\u001b[0mfind_all\u001b[0m\u001b[0;34m(\u001b[0m\u001b[0;34m'div'\u001b[0m\u001b[0;34m,\u001b[0m \u001b[0mclass_\u001b[0m\u001b[0;34m=\u001b[0m\u001b[0;34m'gs_r gs_or gs_scl'\u001b[0m\u001b[0;34m)\u001b[0m\u001b[0;34m\u001b[0m\u001b[0;34m\u001b[0m\u001b[0m\n",
      "\u001b[0;32m~/Desktop/20201S/Network-Science/scholarly/scholarly/_navigator.py\u001b[0m in \u001b[0;36m_get_soup\u001b[0;34m(self, url)\u001b[0m\n\u001b[1;32m    269\u001b[0m     \u001b[0;32mdef\u001b[0m \u001b[0m_get_soup\u001b[0m\u001b[0;34m(\u001b[0m\u001b[0mself\u001b[0m\u001b[0;34m,\u001b[0m \u001b[0murl\u001b[0m\u001b[0;34m:\u001b[0m \u001b[0mstr\u001b[0m\u001b[0;34m)\u001b[0m \u001b[0;34m->\u001b[0m \u001b[0mBeautifulSoup\u001b[0m\u001b[0;34m:\u001b[0m\u001b[0;34m\u001b[0m\u001b[0;34m\u001b[0m\u001b[0m\n\u001b[1;32m    270\u001b[0m         \u001b[0;34m\"\"\"Return the BeautifulSoup for a page on scholar.google.com\"\"\"\u001b[0m\u001b[0;34m\u001b[0m\u001b[0;34m\u001b[0m\u001b[0m\n\u001b[0;32m--> 271\u001b[0;31m         \u001b[0mhtml\u001b[0m \u001b[0;34m=\u001b[0m \u001b[0mself\u001b[0m\u001b[0;34m.\u001b[0m\u001b[0m_get_page\u001b[0m\u001b[0;34m(\u001b[0m\u001b[0m_HOST\u001b[0m\u001b[0;34m.\u001b[0m\u001b[0mformat\u001b[0m\u001b[0;34m(\u001b[0m\u001b[0murl\u001b[0m\u001b[0;34m)\u001b[0m\u001b[0;34m)\u001b[0m\u001b[0;34m\u001b[0m\u001b[0;34m\u001b[0m\u001b[0m\n\u001b[0m\u001b[1;32m    272\u001b[0m         \u001b[0mhtml\u001b[0m \u001b[0;34m=\u001b[0m \u001b[0mhtml\u001b[0m\u001b[0;34m.\u001b[0m\u001b[0mreplace\u001b[0m\u001b[0;34m(\u001b[0m\u001b[0;34mu'\\xa0'\u001b[0m\u001b[0;34m,\u001b[0m \u001b[0;34mu' '\u001b[0m\u001b[0;34m)\u001b[0m\u001b[0;34m\u001b[0m\u001b[0;34m\u001b[0m\u001b[0m\n\u001b[1;32m    273\u001b[0m         \u001b[0mres\u001b[0m \u001b[0;34m=\u001b[0m \u001b[0mBeautifulSoup\u001b[0m\u001b[0;34m(\u001b[0m\u001b[0mhtml\u001b[0m\u001b[0;34m,\u001b[0m \u001b[0;34m'html.parser'\u001b[0m\u001b[0;34m)\u001b[0m\u001b[0;34m\u001b[0m\u001b[0;34m\u001b[0m\u001b[0m\n",
      "\u001b[0;32m~/Desktop/20201S/Network-Science/scholarly/scholarly/_navigator.py\u001b[0m in \u001b[0;36m_get_page\u001b[0;34m(self, pagerequest)\u001b[0m\n\u001b[1;32m    119\u001b[0m                     \u001b[0;31m# to avod an infinite loop\u001b[0m\u001b[0;34m\u001b[0m\u001b[0;34m\u001b[0m\u001b[0;34m\u001b[0m\u001b[0m\n\u001b[1;32m    120\u001b[0m                     \u001b[0mtries\u001b[0m \u001b[0;34m+=\u001b[0m \u001b[0;36m1\u001b[0m\u001b[0;34m\u001b[0m\u001b[0;34m\u001b[0m\u001b[0m\n\u001b[0;32m--> 121\u001b[0;31m         \u001b[0;32mraise\u001b[0m \u001b[0mException\u001b[0m\u001b[0;34m(\u001b[0m\u001b[0;34m\"Cannot fetch the page from Google Scholar.\"\u001b[0m\u001b[0;34m)\u001b[0m\u001b[0;34m\u001b[0m\u001b[0;34m\u001b[0m\u001b[0m\n\u001b[0m\u001b[1;32m    122\u001b[0m \u001b[0;34m\u001b[0m\u001b[0m\n\u001b[1;32m    123\u001b[0m     \u001b[0;32mdef\u001b[0m \u001b[0m_check_proxy\u001b[0m\u001b[0;34m(\u001b[0m\u001b[0mself\u001b[0m\u001b[0;34m,\u001b[0m \u001b[0mproxies\u001b[0m\u001b[0;34m)\u001b[0m \u001b[0;34m->\u001b[0m \u001b[0mbool\u001b[0m\u001b[0;34m:\u001b[0m\u001b[0;34m\u001b[0m\u001b[0;34m\u001b[0m\u001b[0m\n",
      "\u001b[0;31mException\u001b[0m: Cannot fetch the page from Google Scholar."
     ]
    }
   ],
   "source": [
    "author = next(scholarly.search_author('Alceu Bissoto'))\n",
    "author.fill(sections=['basic','publications'])\n",
    "pubs = list()\n",
    "pubss = list()\n",
    "for pub in author.publications:\n",
    "    print(pub)\n",
    "    pubs.append(pub)\n",
    "    title = pub.bib['title']\n",
    "    p = scholarly.search_pubs(title)\n",
    "    pubss.append(next(p))"
   ]
  },
  {
   "cell_type": "code",
   "execution_count": 34,
   "metadata": {},
   "outputs": [
    {
     "data": {
      "text/plain": [
       "{'bib': {'abstract': 'Melanoma is the deadliest form of skin cancer. Automated '\n",
       "                     'skin lesion analysis plays an important role for early '\n",
       "                     'detection. Nowadays, the ISIC Archive and the Atlas of '\n",
       "                     'Dermoscopy dataset are the most employed skin lesion '\n",
       "                     'sources to benchmark deep-learning based tools. However, '\n",
       "                     'all datasets contain biases, often unintentional, due to '\n",
       "                     'how they were acquired and annotated. Those biases '\n",
       "                     'distort the performance of machine-learning models, '\n",
       "                     'creating spurious correlations that the models can '\n",
       "                     'unfairly exploit, or, contrarily destroying cogent '\n",
       "                     'correlations that the models could learn. In this paper, '\n",
       "                     'we propose a set of experiments that reveal both types '\n",
       "                     'of biases, positive and negative, in existing skin '\n",
       "                     'lesion datasets. Our results show that models can '\n",
       "                     'correctly classify skin lesion images without '\n",
       "                     'clinically-meaningful information: disturbingly, the '\n",
       "                     'machine-learning model learned over images where no '\n",
       "                     'information about the lesion remains, presents an '\n",
       "                     'accuracy above the AI benchmark curated with '\n",
       "                     \"dermatologists' performances. That strongly suggests \"\n",
       "                     'spurious correlations guiding the models. We fed models '\n",
       "                     'with additional clinically meaningful information, which '\n",
       "                     'failed to improve the results even slightly, suggesting '\n",
       "                     'the destruction of cogent correlations. Our main '\n",
       "                     'findings raise awareness of the limitations of models '\n",
       "                     'trained and evaluated in small datasets such as the ones '\n",
       "                     'we evaluated, and may suggest future guidelines for '\n",
       "                     'models intended for real-world deployment.',\n",
       "         'author': 'Alceu Bissoto and Michel Fornaciali and Eduardo Valle and '\n",
       "                   'Sandra Avila',\n",
       "         'cites': '12799106842775777091',\n",
       "         'eprint': 'http://openaccess.thecvf.com/content_CVPRW_2019/papers/ISIC/Bissoto_DeConstructing_Bias_on_Skin_Lesion_Datasets_CVPRW_2019_paper.pdf',\n",
       "         'pages': '0-0',\n",
       "         'title': '(De) Constructing Bias on Skin Lesion Datasets',\n",
       "         'url': 'http://openaccess.thecvf.com/content_CVPRW_2019/html/ISIC/Bissoto_DeConstructing_Bias_on_Skin_Lesion_Datasets_CVPRW_2019_paper.html',\n",
       "         'year': '2019'},\n",
       " 'cites_per_year': {2020: 1},\n",
       " 'filled': True,\n",
       " 'id_citations': 'tV12auAAAAAJ:d1gkVwhDpl0C',\n",
       " 'source': 'citations'}"
      ]
     },
     "execution_count": 34,
     "metadata": {},
     "output_type": "execute_result"
    }
   ],
   "source": [
    "pubs[3].fill()"
   ]
  },
  {
   "cell_type": "code",
   "execution_count": 38,
   "metadata": {},
   "outputs": [
    {
     "ename": "AttributeError",
     "evalue": "'str' object has no attribute 'toint'",
     "output_type": "error",
     "traceback": [
      "\u001b[0;31m---------------------------------------------------------------------------\u001b[0m",
      "\u001b[0;31mAttributeError\u001b[0m                            Traceback (most recent call last)",
      "\u001b[0;32m<ipython-input-38-7f84635dbe58>\u001b[0m in \u001b[0;36m<module>\u001b[0;34m\u001b[0m\n\u001b[0;32m----> 1\u001b[0;31m \u001b[0mpubs\u001b[0m\u001b[0;34m[\u001b[0m\u001b[0;36m3\u001b[0m\u001b[0;34m]\u001b[0m\u001b[0;34m.\u001b[0m\u001b[0mbib\u001b[0m\u001b[0;34m[\u001b[0m\u001b[0;34m'cites'\u001b[0m\u001b[0;34m]\u001b[0m\u001b[0;34m.\u001b[0m\u001b[0mtoint\u001b[0m\u001b[0;34m(\u001b[0m\u001b[0;34m)\u001b[0m\u001b[0;34m\u001b[0m\u001b[0;34m\u001b[0m\u001b[0m\n\u001b[0m",
      "\u001b[0;31mAttributeError\u001b[0m: 'str' object has no attribute 'toint'"
     ]
    }
   ],
   "source": [
    "pubs[3].bib['cites']"
   ]
  },
  {
   "cell_type": "code",
   "execution_count": 5,
   "metadata": {},
   "outputs": [],
   "source": [
    "pubs = scholarly.search_pubs('Skin lesion synthesis with generative adversarial networks')\n",
    "try:\n",
    "    P = next(pubs)\n",
    "except:\n",
    "    P = None\n"
   ]
  },
  {
   "cell_type": "code",
   "execution_count": 27,
   "metadata": {},
   "outputs": [
    {
     "name": "stdout",
     "output_type": "stream",
     "text": [
      "{'bib': {'ENTRYTYPE': 'incollection',\n",
      "         'ID': 'bissoto2018skin',\n",
      "         'abstract': 'Skin cancer is by far the most common type of cancer. '\n",
      "                     'Early detection is the key to increase the chances for '\n",
      "                     'successful treatment significantly. Currently, Deep '\n",
      "                     'Neural Networks are the state-of-the-art results on '\n",
      "                     'automated skin cancer classification. To push the '\n",
      "                     'results further, we need to address the lack of '\n",
      "                     'annotated data, which is expensive and require much '\n",
      "                     'effort from specialists. To bypass this problem, we '\n",
      "                     'propose using Generative Adversarial Networks for '\n",
      "                     'generating realistic synthetic skin lesion images. To '\n",
      "                     'the best of our knowledge',\n",
      "         'author': \"Bissoto, Alceu and Perez, F{\\\\'a}bio and Valle, Eduardo \"\n",
      "                   'and Avila, Sandra',\n",
      "         'booktitle': 'OR 2.0 Context-Aware Operating Theaters, Computer '\n",
      "                      'Assisted Robotic Endoscopy, Clinical Image-Based '\n",
      "                      'Procedures, and Skin Image Analysis',\n",
      "         'cites': '24',\n",
      "         'eprint': 'https://arxiv.org/pdf/1902.03253',\n",
      "         'gsrank': '1',\n",
      "         'pages': '294--302',\n",
      "         'publisher': 'Springer',\n",
      "         'title': 'Skin lesion synthesis with generative adversarial networks',\n",
      "         'url': 'https://link.springer.com/chapter/10.1007/978-3-030-01201-4_32',\n",
      "         'venue': 'OR 2.0 Context-Aware Operating …',\n",
      "         'year': '2018'},\n",
      " 'citations_link': '/scholar?cites=2022709840123599796&as_sdt=5,33&sciodt=0,33&hl=en',\n",
      " 'filled': True,\n",
      " 'source': 'scholar',\n",
      " 'url_add_sclib': '/citations?hl=en&xsrf=&continue=/scholar%3Fq%3DSkin%2Blesion%2Bsynthesis%2Bwith%2Bgenerative%2Badversarial%2Bnetworks%26hl%3Den%26as_sdt%3D0,33&citilm=1&json=&update_op=library_add&info=tBtBAOIbEhwJ&ei=fQzQXp--NoKtmQGN4JPACg',\n",
      " 'url_scholarbib': 'https://scholar.googleusercontent.com/scholar.bib?q=info:tBtBAOIbEhwJ:scholar.google.com/&output=citation&scisdr=CgWW_y2-GAA:AAGBfm0AAAAAXtAO3dwC1XQOmBrNc04719fQfT_c2f1X&scisig=AAGBfm0AAAAAXtAO3cg5DSTGpjHUjxFHp7A3hKpxv7VQ&scisf=4&ct=citation&cd=-1&hl=en'}\n"
     ]
    }
   ],
   "source": [
    "print(P)"
   ]
  },
  {
   "cell_type": "code",
   "execution_count": 7,
   "metadata": {},
   "outputs": [
    {
     "data": {
      "text/plain": [
       "{'bib': {'ENTRYTYPE': 'incollection',\n",
       "         'ID': 'bissoto2018skin',\n",
       "         'abstract': 'Skin cancer is by far the most common type of cancer. '\n",
       "                     'Early detection is the key to increase the chances for '\n",
       "                     'successful treatment significantly. Currently, Deep '\n",
       "                     'Neural Networks are the state-of-the-art results on '\n",
       "                     'automated skin cancer classification. To push the '\n",
       "                     'results further, we need to address the lack of '\n",
       "                     'annotated data, which is expensive and require much '\n",
       "                     'effort from specialists. To bypass this problem, we '\n",
       "                     'propose using Generative Adversarial Networks for '\n",
       "                     'generating realistic synthetic skin lesion images. To '\n",
       "                     'the best of our knowledge',\n",
       "         'author': \"Bissoto, Alceu and Perez, F{\\\\'a}bio and Valle, Eduardo \"\n",
       "                   'and Avila, Sandra',\n",
       "         'booktitle': 'OR 2.0 Context-Aware Operating Theaters, Computer '\n",
       "                      'Assisted Robotic Endoscopy, Clinical Image-Based '\n",
       "                      'Procedures, and Skin Image Analysis',\n",
       "         'cites': '24',\n",
       "         'eprint': 'https://arxiv.org/pdf/1902.03253',\n",
       "         'gsrank': '1',\n",
       "         'pages': '294--302',\n",
       "         'publisher': 'Springer',\n",
       "         'title': 'Skin lesion synthesis with generative adversarial networks',\n",
       "         'url': 'https://link.springer.com/chapter/10.1007/978-3-030-01201-4_32',\n",
       "         'venue': 'OR 2.0 Context-Aware Operating …',\n",
       "         'year': '2018'},\n",
       " 'citations_link': '/scholar?cites=2022709840123599796&as_sdt=5,33&sciodt=0,33&hl=en',\n",
       " 'filled': True,\n",
       " 'source': 'scholar',\n",
       " 'url_add_sclib': '/citations?hl=en&xsrf=&continue=/scholar%3Fq%3DSkin%2Blesion%2Bsynthesis%2Bwith%2Bgenerative%2Badversarial%2Bnetworks%26hl%3Den%26as_sdt%3D0,33&citilm=1&json=&update_op=library_add&info=tBtBAOIbEhwJ&ei=fQzQXp--NoKtmQGN4JPACg',\n",
       " 'url_scholarbib': 'https://scholar.googleusercontent.com/scholar.bib?q=info:tBtBAOIbEhwJ:scholar.google.com/&output=citation&scisdr=CgWW_y2-GAA:AAGBfm0AAAAAXtAO3dwC1XQOmBrNc04719fQfT_c2f1X&scisig=AAGBfm0AAAAAXtAO3cg5DSTGpjHUjxFHp7A3hKpxv7VQ&scisf=4&ct=citation&cd=-1&hl=en'}"
      ]
     },
     "execution_count": 7,
     "metadata": {},
     "output_type": "execute_result"
    }
   ],
   "source": [
    "P.fill()"
   ]
  },
  {
   "cell_type": "code",
   "execution_count": 32,
   "metadata": {},
   "outputs": [],
   "source": [
    "import re\n",
    "_SCHOLARPUBRE = r'cites=([\\w-]*)'\n",
    "id_scholarcitedby = re.findall(_SCHOLARPUBRE, P.citations_link)[0].strip()"
   ]
  },
  {
   "cell_type": "code",
   "execution_count": 33,
   "metadata": {},
   "outputs": [
    {
     "data": {
      "text/plain": [
       "'2022709840123599796'"
      ]
     },
     "execution_count": 33,
     "metadata": {},
     "output_type": "execute_result"
    }
   ],
   "source": [
    "id_scholarcitedby"
   ]
  }
 ],
 "metadata": {
  "kernelspec": {
   "display_name": "py3",
   "language": "python",
   "name": "py3"
  },
  "language_info": {
   "codemirror_mode": {
    "name": "ipython",
    "version": 3
   },
   "file_extension": ".py",
   "mimetype": "text/x-python",
   "name": "python",
   "nbconvert_exporter": "python",
   "pygments_lexer": "ipython3",
   "version": "3.7.4"
  }
 },
 "nbformat": 4,
 "nbformat_minor": 4
}
