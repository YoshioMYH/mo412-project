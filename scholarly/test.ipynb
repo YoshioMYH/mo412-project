{
 "cells": [
  {
   "cell_type": "code",
   "execution_count": 13,
   "metadata": {},
   "outputs": [],
   "source": [
    "import csv\n",
    "from scholarly import scholarly\n",
    "import random\n",
    "from pprint import pprint"
   ]
  },
  {
   "cell_type": "code",
   "execution_count": 12,
   "metadata": {},
   "outputs": [],
   "source": [
    "proxies = {'http' : 'socks5://127.0.0.1:9050', 'https': 'socks5://127.0.0.1:9050'}\n",
    "scholarly.use_proxy(**proxies)"
   ]
  },
  {
   "cell_type": "code",
   "execution_count": 11,
   "metadata": {},
   "outputs": [
    {
     "ename": "NameError",
     "evalue": "name 'pprint' is not defined",
     "output_type": "error",
     "traceback": [
      "\u001b[0;31m---------------------------------------------------------------------------\u001b[0m",
      "\u001b[0;31mNameError\u001b[0m                                 Traceback (most recent call last)",
      "\u001b[0;32m<ipython-input-11-e9df985e902c>\u001b[0m in \u001b[0;36m<module>\u001b[0;34m\u001b[0m\n\u001b[1;32m      3\u001b[0m                      tor_control_port=random.randint(9500, 9999))\n\u001b[1;32m      4\u001b[0m \u001b[0;34m\u001b[0m\u001b[0m\n\u001b[0;32m----> 5\u001b[0;31m \u001b[0mpprint\u001b[0m\u001b[0;34m(\u001b[0m\u001b[0mresult\u001b[0m\u001b[0;34m)\u001b[0m\u001b[0;34m\u001b[0m\u001b[0;34m\u001b[0m\u001b[0m\n\u001b[0m",
      "\u001b[0;31mNameError\u001b[0m: name 'pprint' is not defined"
     ]
    }
   ],
   "source": [
    "result = scholarly.launch_tor('/usr/bin/tor',\n",
    "                     tor_sock_port=random.randint(9000, 9499),\n",
    "                     tor_control_port=random.randint(9500, 9999))"
   ]
  },
  {
   "cell_type": "code",
   "execution_count": 14,
   "metadata": {},
   "outputs": [
    {
     "name": "stdout",
     "output_type": "stream",
     "text": [
      "{'proxies': {'http': 'socks5://127.0.0.1:9265',\n",
      "             'https': 'socks5://127.0.0.1:9265'},\n",
      " 'proxy_works': True,\n",
      " 'refresh_works': True,\n",
      " 'tor_control_port': 9866,\n",
      " 'tor_sock_port': 9265}\n"
     ]
    }
   ],
   "source": [
    "pprint(result)"
   ]
  },
  {
   "cell_type": "code",
   "execution_count": null,
   "metadata": {},
   "outputs": [],
   "source": [
    "keywords = ['Artificial Intelligence']\n",
    "# 'Deep Learning','Machine Learning','Pattern Recognition'\n",
    "  \n",
    "for kw in keywords:\n",
    "    search_query = scholarly.search_keyword(kw)\n",
    "    try:\n",
    "        author = next(search_query)\n",
    "    except Exception as e:\n",
    "        author = None\n",
    "        print(e)\n",
    "    while(author is not None):\n",
    "        author.fill(sections=['basic','publications'])\n",
    "        with open('author-interest.csv', mode='a') as ai_file:\n",
    "            ai_writer = csv.writer(ai_file, delimiter=',', quotechar='\"', quoting=csv.QUOTE_MINIMAL)\n",
    "#               ai_writer.writerow(['name', 'id','interest'])\n",
    "            for interest in author.interests:\n",
    "                ai_writer.writerow([author.name, author.id, interest])\n",
    "        with open('author-publications.csv', mode='a') as ap_file:\n",
    "            ap_writer = csv.writer(ap_file, delimiter=',', quotechar='\"', quoting=csv.QUOTE_MINIMAL)\n",
    "#               ap_writer.writerow(['name', 'name_id','publication'])\n",
    "            try:\n",
    "                for pub in author.publications:\n",
    "                    pub.fill()\n",
    "                    try:\n",
    "                        ap_writer.writerow([author.name, author.id, pub.bib['title'], pub.bib['cites']])\n",
    "                    except:\n",
    "                        pass\n",
    "            except:\n",
    "                pass\n",
    "        try:\n",
    "            author = next(search_query)\n",
    "        except Exception as e:\n",
    "            author = None\n",
    "            print(e)"
   ]
  },
  {
   "cell_type": "code",
   "execution_count": 3,
   "metadata": {},
   "outputs": [
    {
     "name": "stdout",
     "output_type": "stream",
     "text": [
      "{'affiliation': 'UPMC Professor, Machine Learning Department, CMU',\n",
      " 'citedby': 79306,\n",
      " 'email': '@cs.cmu.edu',\n",
      " 'filled': False,\n",
      " 'id': 'ITZ1e7MAAAAJ',\n",
      " 'interests': ['Machine Learning', 'Artificial Intelligence', 'Deep Learning'],\n",
      " 'name': 'Ruslan Salakhutdinov',\n",
      " 'url_picture': 'https://scholar.google.com/citations?view_op=medium_photo&user=ITZ1e7MAAAAJ'}\n"
     ]
    }
   ],
   "source": [
    "search_query = scholarly.search_keyword(keyword='Deep Learning')\n",
    "author = next(search_query)\n",
    "print(author)"
   ]
  }
 ],
 "metadata": {
  "kernelspec": {
   "display_name": "py3",
   "language": "python",
   "name": "py3"
  },
  "language_info": {
   "codemirror_mode": {
    "name": "ipython",
    "version": 3
   },
   "file_extension": ".py",
   "mimetype": "text/x-python",
   "name": "python",
   "nbconvert_exporter": "python",
   "pygments_lexer": "ipython3",
   "version": "3.7.4"
  }
 },
 "nbformat": 4,
 "nbformat_minor": 4
}
