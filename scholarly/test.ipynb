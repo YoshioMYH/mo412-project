{
 "cells": [
  {
   "cell_type": "code",
   "execution_count": 1,
   "metadata": {},
   "outputs": [],
   "source": [
    "import csv\n",
    "from scholarly import scholarly\n",
    "import random"
   ]
  },
  {
   "cell_type": "code",
   "execution_count": null,
   "metadata": {},
   "outputs": [],
   "source": [
    "# proxies = {'http' : 'socks5://127.0.0.1:9050', 'https': 'socks5://127.0.0.1:9050'}\n",
    "# scholarly.use_proxy(**proxies)"
   ]
  },
  {
   "cell_type": "code",
   "execution_count": 2,
   "metadata": {
    "scrolled": true
   },
   "outputs": [
    {
     "data": {
      "text/plain": [
       "{'proxy_works': True,\n",
       " 'refresh_works': True,\n",
       " 'proxies': {'http': 'socks5://127.0.0.1:9322',\n",
       "  'https': 'socks5://127.0.0.1:9322'},\n",
       " 'tor_control_port': 9733,\n",
       " 'tor_sock_port': 9322}"
      ]
     },
     "execution_count": 2,
     "metadata": {},
     "output_type": "execute_result"
    }
   ],
   "source": [
    "scholarly.launch_tor('/usr/bin/tor',\n",
    "                     tor_sock_port=random.randint(9000, 9499),\n",
    "                     tor_control_port=random.randint(9500, 9999))"
   ]
  },
  {
   "cell_type": "code",
   "execution_count": null,
   "metadata": {},
   "outputs": [],
   "source": [
    "keywords = ['AI']\n",
    "# 'Deep_Learning','Machine_Learning','Pattern Recognition'\n",
    "  \n",
    "for kw in keywords:\n",
    "    search_query = scholarly.search_keyword(kw)\n",
    "    try:\n",
    "        author = next(search_query)\n",
    "    except Exception as e:\n",
    "        author = None\n",
    "        print(e)\n",
    "    while(author is not None):\n",
    "        author.fill(sections=['basic','publications'])\n",
    "        with open('author-interest.csv', mode='a') as ai_file:\n",
    "            ai_writer = csv.writer(ai_file, delimiter=',', quotechar='\"', quoting=csv.QUOTE_MINIMAL)\n",
    "#               ai_writer.writerow(['name', 'id','interest'])\n",
    "            for interest in author.interests:\n",
    "                ai_writer.writerow([author.name, author.id, interest])\n",
    "        with open('author-publications.csv', mode='a') as ap_file:\n",
    "            ap_writer = csv.writer(ap_file, delimiter=',', quotechar='\"', quoting=csv.QUOTE_MINIMAL)\n",
    "#               ap_writer.writerow(['name', 'name_id','publication'])\n",
    "            try:\n",
    "                for pub in author.publications:\n",
    "                    try:\n",
    "                        pub.fill()\n",
    "                        ap_writer.writerow([author.name, author.id, pub.bib['title'], pub.bib['cites']])\n",
    "                    except Exception as e:\n",
    "                        print(e)\n",
    "                        continue\n",
    "            except Exception as e:\n",
    "                print(e)\n",
    "                pass\n",
    "        try:\n",
    "            author = next(search_query)\n",
    "        except Exception as e:\n",
    "            author = None\n",
    "            print(e)"
   ]
  }
 ],
 "metadata": {
  "kernelspec": {
   "display_name": "py3",
   "language": "python",
   "name": "py3"
  },
  "language_info": {
   "codemirror_mode": {
    "name": "ipython",
    "version": 3
   },
   "file_extension": ".py",
   "mimetype": "text/x-python",
   "name": "python",
   "nbconvert_exporter": "python",
   "pygments_lexer": "ipython3",
   "version": "3.7.4"
  }
 },
 "nbformat": 4,
 "nbformat_minor": 4
}